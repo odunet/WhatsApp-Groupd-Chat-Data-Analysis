{
 "cells": [
  {
   "cell_type": "code",
   "execution_count": 1,
   "metadata": {},
   "outputs": [],
   "source": [
    "import pandas as pd\n",
    "import matplotlib.pyplot as plt\n",
    "import numpy as np\n",
    "import re"
   ]
  },
  {
   "cell_type": "code",
   "execution_count": 2,
   "metadata": {},
   "outputs": [],
   "source": [
    "#Initialize file name\n",
    "fname = \"raw_whatsapp.txt\""
   ]
  },
  {
   "cell_type": "code",
   "execution_count": 3,
   "metadata": {},
   "outputs": [],
   "source": [
    "#Open file\n",
    "with open(fname, \"r\", encoding='utf-8') as data:\n",
    "    #Read each line as lits item\n",
    "    lines = data.read().splitlines()\n",
    "    last_line = lines[-1]\n",
    "\n",
    "#Remove all blank spaces\n",
    "lines_no_na = list(filter(lambda a: a != \"\", lines))"
   ]
  },
  {
   "cell_type": "code",
   "execution_count": 4,
   "metadata": {},
   "outputs": [],
   "source": [
    "#Loop through the messages to combine multi-line messages as one list item\n",
    "formatted_lines = []\n",
    "for index,ln in enumerate(lines_no_na):\n",
    "    if index == 0:\n",
    "        formatted_lines.append(ln)\n",
    "        continue\n",
    "    elif re.search(\"^\\d{2}/\\d{2}/\\d{4}\", ln):\n",
    "        formatted_lines.append(ln)\n",
    "    else:\n",
    "        if len(formatted_lines) == 1:\n",
    "            formatted_lines[0] = \" \".join([formatted_lines[0],ln])\n",
    "        else:\n",
    "            formatted_lines[-1] = \" \".join([formatted_lines[-1],ln])"
   ]
  },
  {
   "cell_type": "code",
   "execution_count": 13,
   "metadata": {},
   "outputs": [],
   "source": [
    "#Ignore this, only required for cleaning original data\n",
    "#formatted_lines.pop(38988)\n",
    "\n",
    "#Change data structure of each entry to dictionary {\"date\":\"abc\",\"phone\":\"123\",\"message\":\"xyz\"}\n",
    "formatted_dict_lst = []\n",
    "for index,frmt_lst in enumerate(formatted_lines):\n",
    "    temp_dict = {}\n",
    "    #Check if date is at the start of entry, if yes extract, if no save entry data as np.nan\n",
    "    if re.search(\"^\\d{2}/\\d{2}/\\d{4}.*-\", frmt_lst) is None:\n",
    "        temp_dict[\"date\"] = np.nan\n",
    "    else:\n",
    "        temp_dict[\"date\"] = list(re.findall(\"^\\d{2}/\\d{2}/\\d{4}.*- \" , frmt_lst)[0].replace(\"-\",\"\").strip())\n",
    "        temp_dict[\"date\"] = temp_dict[\"date\"][:18]\n",
    "        temp_dict[\"date\"] = \"\".join(temp_dict[\"date\"]).strip(\" \")\n",
    "    #Check is entry has a phone entry using RegEx, if yes, extract, is no stave entry as np.nan\n",
    "    if re.search(\"-.[+].*: \", frmt_lst) is None:\n",
    "        temp_dict[\"phone\"] = np.nan\n",
    "    else:\n",
    "        temp_dict[\"phone\"] = re.findall(\"-.[+].*: \", frmt_lst)[0].strip(\"-+\").replace(':', '').replace(' ','')\n",
    "        if len(temp_dict[\"phone\"])<=14:\n",
    "            pass\n",
    "        else:\n",
    "            #if phone number entry is longer than 14 digit, check is extra digits are numbers, if yes OK, is no delete\n",
    "            temp_dict[\"phone\"] = temp_dict[\"phone\"][:14]\n",
    "            if temp_dict[\"phone\"][-1] not in [\"0\",\"1\",\"2\",\"3\",\"4\",\"5\",\"6\",\"7\",\"8\",\"9\"]:\n",
    "                tempp = list(temp_dict[\"phone\"])\n",
    "                tempp.pop(-1)\n",
    "                temp_dict[\"phone\"]=tempp\n",
    "                temp_dict[\"phone\"] = \"\".join(temp_dict[\"phone\"]).strip(\" \")\n",
    "            if temp_dict[\"phone\"][-1] not in [\"0\",\"1\",\"2\",\"3\",\"4\",\"5\",\"6\",\"7\",\"8\",\"9\"]:\n",
    "                tempp.pop(-1)\n",
    "                temp_dict[\"phone\"]=tempp\n",
    "                temp_dict[\"phone\"] = \"\".join(temp_dict[\"phone\"]).strip(\" \")\n",
    "    #Check for message entry and store in dictionary\n",
    "    if re.search(\" [+].*\", frmt_lst):\n",
    "        temp_dict[\"message\"] = list(re.findall(\" [+].*\", frmt_lst)[0])\n",
    "        del temp_dict[\"message\"][:18]\n",
    "        temp_dict[\"message\"] = \"\".join(temp_dict[\"message\"]).strip(\":\").replace(\"*\",\"\")\n",
    "    else: \n",
    "        temp_dict[\"message\"] = list(re.findall(\".[:].*\", frmt_lst)[0])\n",
    "        del temp_dict[\"message\"][:6]\n",
    "        temp_dict[\"message\"] = \"\".join(temp_dict[\"message\"]).strip().replace(\"*\",\"\")\n",
    "    #If message entry is \"media omitted\" store entry as np.nan\n",
    "    if temp_dict[\"message\"] == \" <Media omitted>\":\n",
    "        temp_dict[\"message\"] = np.nan\n",
    "    #for every iteration, save dictionary as list item\n",
    "    formatted_dict_lst.append(temp_dict)"
   ]
  },
  {
   "cell_type": "code",
   "execution_count": 14,
   "metadata": {},
   "outputs": [],
   "source": [
    "#convert the list of dictionary to a PD dataframe\n",
    "df = pd.DataFrame(formatted_dict_lst)"
   ]
  },
  {
   "cell_type": "code",
   "execution_count": 15,
   "metadata": {},
   "outputs": [
    {
     "output_type": "execute_result",
     "data": {
      "text/plain": "                date           phone  \\\n0  22/03/2019, 07:46    +61459847002   \n1  22/03/2019, 07:49  +2347062612782   \n2  23/03/2019, 07:52  +2348059872748   \n3  23/03/2019, 07:56  +2348069087511   \n4  23/03/2019, 07:57  +2348064487511   \n\n                                             message  \n0                                         I am a cat  \n1                          Funny job, but I'll do it  \n2              Hahahahah, I don't like chasing stars  \n3               You are saying funny abi things 🤪🤣😀😀  \n4   If you know how big i am...you won't talk lik...  ",
      "text/html": "<div>\n<style scoped>\n    .dataframe tbody tr th:only-of-type {\n        vertical-align: middle;\n    }\n\n    .dataframe tbody tr th {\n        vertical-align: top;\n    }\n\n    .dataframe thead th {\n        text-align: right;\n    }\n</style>\n<table border=\"1\" class=\"dataframe\">\n  <thead>\n    <tr style=\"text-align: right;\">\n      <th></th>\n      <th>date</th>\n      <th>phone</th>\n      <th>message</th>\n    </tr>\n  </thead>\n  <tbody>\n    <tr>\n      <th>0</th>\n      <td>22/03/2019, 07:46</td>\n      <td>+61459847002</td>\n      <td>I am a cat</td>\n    </tr>\n    <tr>\n      <th>1</th>\n      <td>22/03/2019, 07:49</td>\n      <td>+2347062612782</td>\n      <td>Funny job, but I'll do it</td>\n    </tr>\n    <tr>\n      <th>2</th>\n      <td>23/03/2019, 07:52</td>\n      <td>+2348059872748</td>\n      <td>Hahahahah, I don't like chasing stars</td>\n    </tr>\n    <tr>\n      <th>3</th>\n      <td>23/03/2019, 07:56</td>\n      <td>+2348069087511</td>\n      <td>You are saying funny abi things 🤪🤣😀😀</td>\n    </tr>\n    <tr>\n      <th>4</th>\n      <td>23/03/2019, 07:57</td>\n      <td>+2348064487511</td>\n      <td>If you know how big i am...you won't talk lik...</td>\n    </tr>\n  </tbody>\n</table>\n</div>"
     },
     "metadata": {},
     "execution_count": 15
    }
   ],
   "source": [
    "#Display first five terms of DATAFRAME\n",
    "df.head()"
   ]
  },
  {
   "cell_type": "code",
   "execution_count": 16,
   "metadata": {},
   "outputs": [],
   "source": [
    "# saving the dataframe \n",
    "df.to_csv('clean_whatsapp.csv') "
   ]
  }
 ],
 "metadata": {
  "kernelspec": {
   "display_name": "Python 3",
   "language": "python",
   "name": "python3"
  },
  "language_info": {
   "codemirror_mode": {
    "name": "ipython",
    "version": 3
   },
   "file_extension": ".py",
   "mimetype": "text/x-python",
   "name": "python",
   "nbconvert_exporter": "python",
   "pygments_lexer": "ipython3",
   "version": "3.8.5-final"
  }
 },
 "nbformat": 4,
 "nbformat_minor": 4
}